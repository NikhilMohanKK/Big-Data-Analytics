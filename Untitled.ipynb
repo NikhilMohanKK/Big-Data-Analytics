{
 "cells": [
  {
   "cell_type": "code",
   "execution_count": null,
   "metadata": {},
   "outputs": [],
   "source": [
    "from bs4 import BeautifulSoup as bs\n",
    "import requests\n",
    "import pandas as pd"
   ]
  },
  {
   "cell_type": "code",
   "execution_count": null,
   "metadata": {},
   "outputs": [],
   "source": [
    "#For holding the webpage link\n",
    "lnk ='https://www.sfu.ca/computing/people/faculty.html'"
   ]
  },
  {
   "cell_type": "code",
   "execution_count": null,
   "metadata": {},
   "outputs": [],
   "source": [
    "res = requests.get(lnk, timeout=5)\n",
    "cont = bs(res.text, \"html.parser\")"
   ]
  },
  {
   "cell_type": "code",
   "execution_count": null,
   "metadata": {},
   "outputs": [],
   "source": [
    "#Finds all the tags and sub tags associated with the particular tag class\n",
    "q = cont.find_all('div', attrs={'class', 'textimage section'})\n",
    "print(q)"
   ]
  },
  {
   "cell_type": "code",
   "execution_count": null,
   "metadata": {},
   "outputs": [],
   "source": [
    "txt=[]\n",
    "for i in q:\n",
    "    txt.append([i.h4.text])\n",
    "    #role.extend([i.h4.text.split(',')[1]])\n",
    "    #temp= str(i.p)\n",
    "    #temp= re.sub('<.*?>', '', temp).lstrip('Area:').rstrip('\\n')\n",
    "    #area.append(temp)\n",
    "#df =pd.DataFrame({'Name':name}\n",
    "#                  )\n",
    "print(txt)"
   ]
  },
  {
   "cell_type": "code",
   "execution_count": null,
   "metadata": {},
   "outputs": [],
   "source": [
    "nm=[]\n",
    "rl=[]\n",
    "ar=[]\n",
    "temp=[]\n",
    "for i in q:\n",
    "    nm.append(i.text.split(',')[0])\n",
    "    temp.append(i.text.split(',')[1])\n",
    "temp"
   ]
  },
  {
   "cell_type": "code",
   "execution_count": null,
   "metadata": {},
   "outputs": [],
   "source": [
    "for i in range(len(nm)):\n",
    "    nm[i]=nm[i].replace('\\n\\n\\n\\n\\n\\n\\n\\n\\n\\n\\n\\n\\n\\n','')\n",
    "for i in temp:\n",
    "    r=(i.split('\\n')[0])\n",
    "    s=i.split('\\n')[1]\n",
    "    ar.append(s.replace('\\n',''))\n",
    "    rl.append(r.split('\\xa0')[0])\n"
   ]
  },
  {
   "cell_type": "code",
   "execution_count": null,
   "metadata": {},
   "outputs": [],
   "source": [
    "# nm holds the name of the professors\n",
    "nm\n",
    "#rl holds the roles of the professors\n",
    "rl\n",
    "# ar holds the areas of interest of the professors\n",
    "ar"
   ]
  },
  {
   "cell_type": "code",
   "execution_count": null,
   "metadata": {},
   "outputs": [],
   "source": []
  }
 ],
 "metadata": {
  "kernelspec": {
   "display_name": "Python 3",
   "language": "python",
   "name": "python3"
  },
  "language_info": {
   "codemirror_mode": {
    "name": "ipython",
    "version": 3
   },
   "file_extension": ".py",
   "mimetype": "text/x-python",
   "name": "python",
   "nbconvert_exporter": "python",
   "pygments_lexer": "ipython3",
   "version": "3.7.3"
  }
 },
 "nbformat": 4,
 "nbformat_minor": 2
}
